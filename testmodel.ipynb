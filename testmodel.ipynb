{
 "cells": [
  {
   "cell_type": "code",
   "execution_count": 6,
   "metadata": {},
   "outputs": [],
   "source": [
    "from tensorflow.keras.models import load_model\n",
    "import joblib\n",
    "import numpy as np\n",
    "import yfinance as yf"
   ]
  },
  {
   "cell_type": "code",
   "execution_count": 2,
   "metadata": {},
   "outputs": [],
   "source": [
    "def load_saved_model(stock_symbol):\n",
    "    model = load_model(f\"{stock_symbol}_lstm_model.h5\")  # Load trained LSTM model\n",
    "    scaler = joblib.load(f\"{stock_symbol}_scaler.pkl\")  # Load saved scaler\n",
    "    return model, scaler"
   ]
  },
  {
   "cell_type": "code",
   "execution_count": 5,
   "metadata": {},
   "outputs": [],
   "source": [
    "def fetch_stock_data(ticker, start='2010-01-01', end='2024-01-01'):\n",
    "    df = yf.download(ticker, start=start, end=end)\n",
    "    return df[['Close']]"
   ]
  },
  {
   "cell_type": "code",
   "execution_count": 3,
   "metadata": {},
   "outputs": [],
   "source": [
    "def predict_stock_price(stock_symbol, df, time_steps=60):\n",
    "    model, scaler = load_saved_model(stock_symbol)\n",
    "\n",
    "    # Prepare last 'time_steps' data points\n",
    "    test_data = df[-time_steps:].values.reshape(-1, 1)\n",
    "    test_data = scaler.transform(test_data)\n",
    "    X_test = np.array([test_data]).reshape(1, time_steps, 1)\n",
    "\n",
    "    # Predict next price\n",
    "    predicted_price = scaler.inverse_transform(model.predict(X_test))[0, 0]\n",
    "\n",
    "    print(f\"Predicted Closing Price for {stock_symbol}: {predicted_price}\")\n",
    "    return predicted_price"
   ]
  },
  {
   "cell_type": "code",
   "execution_count": 7,
   "metadata": {},
   "outputs": [
    {
     "name": "stderr",
     "output_type": "stream",
     "text": [
      "[*********************100%***********************]  1 of 1 completed\n",
      "WARNING:absl:Compiled the loaded model, but the compiled metrics have yet to be built. `model.compile_metrics` will be empty until you train or evaluate the model.\n"
     ]
    },
    {
     "name": "stdout",
     "output_type": "stream",
     "text": [
      "\u001b[1m1/1\u001b[0m \u001b[32m━━━━━━━━━━━━━━━━━━━━\u001b[0m\u001b[37m\u001b[0m \u001b[1m0s\u001b[0m 334ms/step\n",
      "Predicted Closing Price for AAPL: 187.7838592529297\n"
     ]
    },
    {
     "data": {
      "text/plain": [
       "187.78386"
      ]
     },
     "execution_count": 7,
     "metadata": {},
     "output_type": "execute_result"
    }
   ],
   "source": [
    "ticker = \"AAPL\"  # Change this to any stock symbol\n",
    "df = fetch_stock_data(ticker)  # Fetch new stock data\n",
    "predict_stock_price(ticker, df)"
   ]
  },
  {
   "cell_type": "code",
   "execution_count": null,
   "metadata": {},
   "outputs": [],
   "source": []
  }
 ],
 "metadata": {
  "kernelspec": {
   "display_name": "base",
   "language": "python",
   "name": "python3"
  },
  "language_info": {
   "codemirror_mode": {
    "name": "ipython",
    "version": 3
   },
   "file_extension": ".py",
   "mimetype": "text/x-python",
   "name": "python",
   "nbconvert_exporter": "python",
   "pygments_lexer": "ipython3",
   "version": "3.12.7"
  }
 },
 "nbformat": 4,
 "nbformat_minor": 2
}
